{
 "cells": [
  {
   "cell_type": "code",
   "execution_count": 1,
   "id": "c99751c7-52e3-46ad-ac34-da907aec2435",
   "metadata": {},
   "outputs": [],
   "source": [
    "import geopandas as gpd\n",
    "import pandas as pd\n",
    "import numpy as np\n",
    "import os"
   ]
  },
  {
   "cell_type": "code",
   "execution_count": 2,
   "id": "ff6a3290-d310-4706-9343-94c156d72621",
   "metadata": {},
   "outputs": [],
   "source": [
    "roads = gpd.read_file(os.getenv('roads-w-penalty'))"
   ]
  },
  {
   "cell_type": "code",
   "execution_count": 3,
   "id": "b98ebf3d-a827-4578-8580-3846041cd34d",
   "metadata": {},
   "outputs": [
    {
     "data": {
      "text/plain": [
       "Index(['cat', 'name', 'name_en', 'highway', 'surface', 'smoothness', 'width',\n",
       "       'lanes', 'oneway', 'bridge', 'layer', 'source', 'name_ur', 'osm_id',\n",
       "       'osm_type', 'VUL_maximum', 'VUL_average', 'geometry'],\n",
       "      dtype='object')"
      ]
     },
     "execution_count": 3,
     "metadata": {},
     "output_type": "execute_result"
    }
   ],
   "source": [
    "roads.columns"
   ]
  },
  {
   "cell_type": "code",
   "execution_count": null,
   "id": "02db7d4c-f152-4f05-8fca-cc5e4a1c959b",
   "metadata": {},
   "outputs": [],
   "source": []
  },
  {
   "cell_type": "code",
   "execution_count": 4,
   "id": "5d0c6958-4a08-48bd-ba78-d2819792ed36",
   "metadata": {},
   "outputs": [
    {
     "data": {
      "text/plain": [
       "array(['unclassified', 'track', 'residential', 'tertiary', 'secondary',\n",
       "       'primary', 'path', 'tertiary_link', 'trunk', 'primary_link',\n",
       "       'service', 'bridleway', 'busway', 'living_street', 'construction',\n",
       "       'footway', 'trunk_link', 'secondary_link', 'motorway',\n",
       "       'pedestrian', 'motorway_link', 'bus_guideway', 'steps', 'cycleway',\n",
       "       'road', 'platform', 'corridor'], dtype=object)"
      ]
     },
     "execution_count": 4,
     "metadata": {},
     "output_type": "execute_result"
    }
   ],
   "source": [
    "roads['highway'].unique()"
   ]
  },
  {
   "cell_type": "code",
   "execution_count": 5,
   "id": "88c74ce8-857c-4128-b073-757549057c6e",
   "metadata": {},
   "outputs": [
    {
     "data": {
      "text/plain": [
       "array(['unpaved', None, 'asphalt', 'ground', 'cobblestone', 'concrete',\n",
       "       'paved', 'paving_stones', 'compacted', 'dirt', 'fine_gravel',\n",
       "       'wood', 'gravel', 'metal', 'grass', 'concrete:plates', 'water',\n",
       "       'clay', 'snow', 'stone', 'rock', 'bricks', 'sterrato', 'earth',\n",
       "       'mud', 'pebblestone', 'Noghordoko_Pon', 'Lasht_Deh_Pon',\n",
       "       'Nurghunik_Pon', 'Doko_Pon', 'Shaho_Pon', 'sabbia', 'construction',\n",
       "       'asphalt,unpaved', 'tirich_mir_bc_trek', 'sett', 'as4', 'ice',\n",
       "       'sand'], dtype=object)"
      ]
     },
     "execution_count": 5,
     "metadata": {},
     "output_type": "execute_result"
    }
   ],
   "source": [
    "roads['surface'].unique()"
   ]
  },
  {
   "cell_type": "code",
   "execution_count": 6,
   "id": "cbe146db-b3cc-48d7-b0b4-e1f6a540d2a3",
   "metadata": {},
   "outputs": [
    {
     "data": {
      "text/plain": [
       "array([None, 'good', 'horrible', 'very_bad', 'bad', 'poor', 'medium',\n",
       "       'excellent', 'intermediate', 'rough', 'no', 'very_horrible',\n",
       "       'fair'], dtype=object)"
      ]
     },
     "execution_count": 6,
     "metadata": {},
     "output_type": "execute_result"
    }
   ],
   "source": [
    "roads['smoothness'].unique()"
   ]
  },
  {
   "cell_type": "code",
   "execution_count": 7,
   "id": "f4761e52-166c-4117-b584-f182bdad3807",
   "metadata": {},
   "outputs": [
    {
     "data": {
      "text/plain": [
       "array([None, '4', '1', '2', '3', '2.5', '0', '8', '1.5', '6.5', '7',\n",
       "       '1.2192', '16', '9', '13', '5', '7m', '19', '0.7', '7.3', '6',\n",
       "       '2m', '0.5', '3.02', '3.3', 'temp path', '18', '15 feet'],\n",
       "      dtype=object)"
      ]
     },
     "execution_count": 7,
     "metadata": {},
     "output_type": "execute_result"
    }
   ],
   "source": [
    "roads['width'].unique()"
   ]
  },
  {
   "cell_type": "code",
   "execution_count": 8,
   "id": "7993bd8c-1085-490c-ae71-2d14efbeadf3",
   "metadata": {},
   "outputs": [
    {
     "data": {
      "text/plain": [
       "array([None, '1', '2', '4', '3', '6', '1,5', '1.5', '20', '0', '11'],\n",
       "      dtype=object)"
      ]
     },
     "execution_count": 8,
     "metadata": {},
     "output_type": "execute_result"
    }
   ],
   "source": [
    "roads['lanes'].unique()"
   ]
  },
  {
   "cell_type": "code",
   "execution_count": 9,
   "id": "dacc440d-2d40-40ac-9fbd-4fbfd63c5fe5",
   "metadata": {},
   "outputs": [
    {
     "data": {
      "text/plain": [
       "array([None, '-1', 'yes', 'no', 'reversible'], dtype=object)"
      ]
     },
     "execution_count": 9,
     "metadata": {},
     "output_type": "execute_result"
    }
   ],
   "source": [
    "roads['oneway'].unique()"
   ]
  },
  {
   "cell_type": "code",
   "execution_count": 10,
   "id": "e06ceab0-e3a1-4f69-b5df-dac3fb0d26c2",
   "metadata": {},
   "outputs": [
    {
     "data": {
      "text/plain": [
       "array([None, 'yes', 'construction', 'no', 'covered', 'low_water_crossing',\n",
       "       'viaduct'], dtype=object)"
      ]
     },
     "execution_count": 10,
     "metadata": {},
     "output_type": "execute_result"
    }
   ],
   "source": [
    "roads['bridge'].unique()"
   ]
  },
  {
   "cell_type": "code",
   "execution_count": 11,
   "id": "9a959191-f312-400e-8240-2c4e9a67215f",
   "metadata": {},
   "outputs": [],
   "source": [
    "highway_scores = {\n",
    "    'motorway': 1, 'motorway_link': 1, 'primary': 1, 'primary_link': 1,\n",
    "    'secondary': 2, 'secondary_link': 2, 'tertiary': 2, 'residential': 2,\n",
    "    'unclassified': 3, 'track': 3, 'path': 4, 'footway': 4, 'bridleway': 4,\n",
    "    'construction': 4, 'service': 3, 'living_street': 2, 'trunk': 2, 'trunk_link': 2\n",
    "}"
   ]
  },
  {
   "cell_type": "code",
   "execution_count": 12,
   "id": "d350ff56-7a64-4655-85f1-16a32b4ae413",
   "metadata": {},
   "outputs": [],
   "source": [
    "surface_scores = {\n",
    "    'asphalt': 0,\n",
    "    'concrete': 0,\n",
    "    'paved': 0,\n",
    "    'gravel': 2,\n",
    "    'unpaved': 3,\n",
    "    'dirt': 4,\n",
    "    'ground': 3,\n",
    "    'cobblestone': 2,\n",
    "    'compacted': 2,\n",
    "    'fine_gravel': 2,\n",
    "    'sand': 4,\n",
    "    'mud': 4,\n",
    "    'wood': 3,\n",
    "    'ice': 5,\n",
    "    'water': 5\n",
    "}"
   ]
  },
  {
   "cell_type": "code",
   "execution_count": 13,
   "id": "b46d41f2-b22c-4698-a28e-d6014710721e",
   "metadata": {},
   "outputs": [],
   "source": [
    "smoothness_scores = {\n",
    "    'excellent': 0,\n",
    "    'good': 0,\n",
    "    'intermediate': 1,\n",
    "    'medium': 2,\n",
    "    'bad': 3,\n",
    "    'very_bad': 4,\n",
    "    'horrible': 5,\n",
    "    'very_horrible': 6,\n",
    "    'no': 3\n",
    "}"
   ]
  },
  {
   "cell_type": "code",
   "execution_count": 14,
   "id": "0dd86aac-b80b-4027-a92c-d3a439c31ce9",
   "metadata": {},
   "outputs": [],
   "source": [
    "roads['highway_score'] = roads['highway'].map(highway_scores).fillna(3)\n",
    "roads['surface_score'] = roads['surface'].map(surface_scores).fillna(2)\n",
    "roads['smoothness_score'] = roads['smoothness'].map(smoothness_scores).fillna(2)\n"
   ]
  },
  {
   "cell_type": "code",
   "execution_count": 15,
   "id": "1ec5719c-ce68-4935-8651-2bd7a7e61e10",
   "metadata": {},
   "outputs": [],
   "source": [
    "roads['lanes'] = pd.to_numeric(roads['lanes'], errors='coerce')\n",
    "roads['lanes'] = roads['lanes'].fillna(1)\n",
    "roads['lanes_score'] = np.where(roads['lanes'] <= 1, 2, 0)\n",
    "roads['width'] = pd.to_numeric(roads['width'], errors='coerce')\n",
    "roads['width'] = roads['width'].fillna(5)\n"
   ]
  },
  {
   "cell_type": "code",
   "execution_count": 16,
   "id": "3c39fb65-3256-4a86-bdff-28f72f3853a0",
   "metadata": {},
   "outputs": [],
   "source": [
    "roads['width_score'] = np.where(roads['width'] < 3, 3,\n",
    "                         np.where(roads['width'] <= 5, 1, 0))"
   ]
  },
  {
   "cell_type": "code",
   "execution_count": 17,
   "id": "10051431-1df4-4bcb-a900-de08da7df10f",
   "metadata": {},
   "outputs": [],
   "source": [
    "roads['oneway_score'] = np.where(roads['oneway'] == 'yes', 1, 0)\n"
   ]
  },
  {
   "cell_type": "code",
   "execution_count": 18,
   "id": "9cd59aff-5336-4e5f-b3bc-20ad917c9b7f",
   "metadata": {},
   "outputs": [],
   "source": [
    "roads['base_score'] = (roads['highway_score'] + roads['surface_score'] + \n",
    "                       roads['smoothness_score'] + roads['lanes_score'] + \n",
    "                       roads['width_score'] + roads['oneway_score']) + roads['VUL_maximum']\n"
   ]
  },
  {
   "cell_type": "code",
   "execution_count": 19,
   "id": "589cffbf-081f-4de1-821e-23fef7c43033",
   "metadata": {},
   "outputs": [
    {
     "name": "stderr",
     "output_type": "stream",
     "text": [
      "/tmp/ipykernel_9433/2922958728.py:1: UserWarning: Column names longer than 10 characters will be truncated when saved to ESRI Shapefile.\n",
      "  roads.to_file('database/roads-fixed/roads_with_penalties.shp', driver='ESRI Shapefile')\n"
     ]
    },
    {
     "name": "stdout",
     "output_type": "stream",
     "text": [
      "Penalties assigned successfully. Check 'final_penalty' field in the output shapefile.\n"
     ]
    },
    {
     "name": "stderr",
     "output_type": "stream",
     "text": [
      "/home/kumail/Projects/Tartu/DSinRS/Project/notebook/env/lib/python3.11/site-packages/pyogrio/raw.py:709: RuntimeWarning: Normalized/laundered field name: 'VUL_maximum' to 'VUL_maximu'\n",
      "  ogr_write(\n",
      "/home/kumail/Projects/Tartu/DSinRS/Project/notebook/env/lib/python3.11/site-packages/pyogrio/raw.py:709: RuntimeWarning: Normalized/laundered field name: 'VUL_average' to 'VUL_averag'\n",
      "  ogr_write(\n",
      "/home/kumail/Projects/Tartu/DSinRS/Project/notebook/env/lib/python3.11/site-packages/pyogrio/raw.py:709: RuntimeWarning: Normalized/laundered field name: 'highway_score' to 'highway_sc'\n",
      "  ogr_write(\n",
      "/home/kumail/Projects/Tartu/DSinRS/Project/notebook/env/lib/python3.11/site-packages/pyogrio/raw.py:709: RuntimeWarning: Normalized/laundered field name: 'surface_score' to 'surface_sc'\n",
      "  ogr_write(\n",
      "/home/kumail/Projects/Tartu/DSinRS/Project/notebook/env/lib/python3.11/site-packages/pyogrio/raw.py:709: RuntimeWarning: Normalized/laundered field name: 'smoothness_score' to 'smoothne_1'\n",
      "  ogr_write(\n",
      "/home/kumail/Projects/Tartu/DSinRS/Project/notebook/env/lib/python3.11/site-packages/pyogrio/raw.py:709: RuntimeWarning: Normalized/laundered field name: 'lanes_score' to 'lanes_scor'\n",
      "  ogr_write(\n",
      "/home/kumail/Projects/Tartu/DSinRS/Project/notebook/env/lib/python3.11/site-packages/pyogrio/raw.py:709: RuntimeWarning: Normalized/laundered field name: 'width_score' to 'width_scor'\n",
      "  ogr_write(\n",
      "/home/kumail/Projects/Tartu/DSinRS/Project/notebook/env/lib/python3.11/site-packages/pyogrio/raw.py:709: RuntimeWarning: Normalized/laundered field name: 'oneway_score' to 'oneway_sco'\n",
      "  ogr_write(\n"
     ]
    }
   ],
   "source": [
    "roads.to_file(os.get9'output'), driver='ESRI Shapefile')\n",
    "\n",
    "print(\"Penalties assigned successfully. Check 'final_penalty' field in the output shapefile.\")"
   ]
  },
  {
   "cell_type": "code",
   "execution_count": 20,
   "id": "ab4130ab-3b7f-4821-b06d-7bb14d6ac420",
   "metadata": {},
   "outputs": [
    {
     "data": {
      "text/html": [
       "<div>\n",
       "<style scoped>\n",
       "    .dataframe tbody tr th:only-of-type {\n",
       "        vertical-align: middle;\n",
       "    }\n",
       "\n",
       "    .dataframe tbody tr th {\n",
       "        vertical-align: top;\n",
       "    }\n",
       "\n",
       "    .dataframe thead th {\n",
       "        text-align: right;\n",
       "    }\n",
       "</style>\n",
       "<table border=\"1\" class=\"dataframe\">\n",
       "  <thead>\n",
       "    <tr style=\"text-align: right;\">\n",
       "      <th></th>\n",
       "      <th>cat</th>\n",
       "      <th>name</th>\n",
       "      <th>name_en</th>\n",
       "      <th>highway</th>\n",
       "      <th>surface</th>\n",
       "      <th>smoothness</th>\n",
       "      <th>width</th>\n",
       "      <th>lanes</th>\n",
       "      <th>oneway</th>\n",
       "      <th>bridge</th>\n",
       "      <th>...</th>\n",
       "      <th>VUL_maximum</th>\n",
       "      <th>VUL_average</th>\n",
       "      <th>geometry</th>\n",
       "      <th>highway_score</th>\n",
       "      <th>surface_score</th>\n",
       "      <th>smoothness_score</th>\n",
       "      <th>lanes_score</th>\n",
       "      <th>width_score</th>\n",
       "      <th>oneway_score</th>\n",
       "      <th>base_score</th>\n",
       "    </tr>\n",
       "  </thead>\n",
       "  <tbody>\n",
       "    <tr>\n",
       "      <th>0</th>\n",
       "      <td>1</td>\n",
       "      <td>None</td>\n",
       "      <td>None</td>\n",
       "      <td>unclassified</td>\n",
       "      <td>unpaved</td>\n",
       "      <td>None</td>\n",
       "      <td>5.0</td>\n",
       "      <td>1.0</td>\n",
       "      <td>None</td>\n",
       "      <td>None</td>\n",
       "      <td>...</td>\n",
       "      <td>1.0</td>\n",
       "      <td>NaN</td>\n",
       "      <td>LINESTRING (614690.695 3844222.236, 614681.094...</td>\n",
       "      <td>3.0</td>\n",
       "      <td>3.0</td>\n",
       "      <td>2.0</td>\n",
       "      <td>2</td>\n",
       "      <td>1</td>\n",
       "      <td>0</td>\n",
       "      <td>12.0</td>\n",
       "    </tr>\n",
       "    <tr>\n",
       "      <th>1</th>\n",
       "      <td>2</td>\n",
       "      <td>None</td>\n",
       "      <td>None</td>\n",
       "      <td>track</td>\n",
       "      <td>None</td>\n",
       "      <td>None</td>\n",
       "      <td>5.0</td>\n",
       "      <td>1.0</td>\n",
       "      <td>None</td>\n",
       "      <td>None</td>\n",
       "      <td>...</td>\n",
       "      <td>1.0</td>\n",
       "      <td>NaN</td>\n",
       "      <td>LINESTRING (614674.297 3845103.846, 614682.395...</td>\n",
       "      <td>3.0</td>\n",
       "      <td>2.0</td>\n",
       "      <td>2.0</td>\n",
       "      <td>2</td>\n",
       "      <td>1</td>\n",
       "      <td>0</td>\n",
       "      <td>11.0</td>\n",
       "    </tr>\n",
       "    <tr>\n",
       "      <th>2</th>\n",
       "      <td>3</td>\n",
       "      <td>None</td>\n",
       "      <td>None</td>\n",
       "      <td>track</td>\n",
       "      <td>None</td>\n",
       "      <td>None</td>\n",
       "      <td>5.0</td>\n",
       "      <td>1.0</td>\n",
       "      <td>None</td>\n",
       "      <td>None</td>\n",
       "      <td>...</td>\n",
       "      <td>1.0</td>\n",
       "      <td>NaN</td>\n",
       "      <td>LINESTRING (614744.964 3844722.194, 614776.869...</td>\n",
       "      <td>3.0</td>\n",
       "      <td>2.0</td>\n",
       "      <td>2.0</td>\n",
       "      <td>2</td>\n",
       "      <td>1</td>\n",
       "      <td>0</td>\n",
       "      <td>11.0</td>\n",
       "    </tr>\n",
       "    <tr>\n",
       "      <th>3</th>\n",
       "      <td>4</td>\n",
       "      <td>None</td>\n",
       "      <td>None</td>\n",
       "      <td>residential</td>\n",
       "      <td>None</td>\n",
       "      <td>None</td>\n",
       "      <td>5.0</td>\n",
       "      <td>1.0</td>\n",
       "      <td>None</td>\n",
       "      <td>None</td>\n",
       "      <td>...</td>\n",
       "      <td>1.0</td>\n",
       "      <td>NaN</td>\n",
       "      <td>LINESTRING (156075.152 3724023.76, 156050.235 ...</td>\n",
       "      <td>2.0</td>\n",
       "      <td>2.0</td>\n",
       "      <td>2.0</td>\n",
       "      <td>2</td>\n",
       "      <td>1</td>\n",
       "      <td>0</td>\n",
       "      <td>10.0</td>\n",
       "    </tr>\n",
       "    <tr>\n",
       "      <th>4</th>\n",
       "      <td>5</td>\n",
       "      <td>None</td>\n",
       "      <td>None</td>\n",
       "      <td>unclassified</td>\n",
       "      <td>None</td>\n",
       "      <td>None</td>\n",
       "      <td>5.0</td>\n",
       "      <td>1.0</td>\n",
       "      <td>None</td>\n",
       "      <td>None</td>\n",
       "      <td>...</td>\n",
       "      <td>1.0</td>\n",
       "      <td>NaN</td>\n",
       "      <td>LINESTRING (275665.454 3891720.008, 275643.257...</td>\n",
       "      <td>3.0</td>\n",
       "      <td>2.0</td>\n",
       "      <td>2.0</td>\n",
       "      <td>2</td>\n",
       "      <td>1</td>\n",
       "      <td>0</td>\n",
       "      <td>11.0</td>\n",
       "    </tr>\n",
       "    <tr>\n",
       "      <th>...</th>\n",
       "      <td>...</td>\n",
       "      <td>...</td>\n",
       "      <td>...</td>\n",
       "      <td>...</td>\n",
       "      <td>...</td>\n",
       "      <td>...</td>\n",
       "      <td>...</td>\n",
       "      <td>...</td>\n",
       "      <td>...</td>\n",
       "      <td>...</td>\n",
       "      <td>...</td>\n",
       "      <td>...</td>\n",
       "      <td>...</td>\n",
       "      <td>...</td>\n",
       "      <td>...</td>\n",
       "      <td>...</td>\n",
       "      <td>...</td>\n",
       "      <td>...</td>\n",
       "      <td>...</td>\n",
       "      <td>...</td>\n",
       "      <td>...</td>\n",
       "    </tr>\n",
       "    <tr>\n",
       "      <th>134753</th>\n",
       "      <td>134531</td>\n",
       "      <td>None</td>\n",
       "      <td>None</td>\n",
       "      <td>residential</td>\n",
       "      <td>None</td>\n",
       "      <td>None</td>\n",
       "      <td>5.0</td>\n",
       "      <td>1.0</td>\n",
       "      <td>None</td>\n",
       "      <td>None</td>\n",
       "      <td>...</td>\n",
       "      <td>1.0</td>\n",
       "      <td>NaN</td>\n",
       "      <td>LINESTRING (213981.364 3765094.52, 214021.455 ...</td>\n",
       "      <td>2.0</td>\n",
       "      <td>2.0</td>\n",
       "      <td>2.0</td>\n",
       "      <td>2</td>\n",
       "      <td>1</td>\n",
       "      <td>0</td>\n",
       "      <td>10.0</td>\n",
       "    </tr>\n",
       "    <tr>\n",
       "      <th>134754</th>\n",
       "      <td>134532</td>\n",
       "      <td>None</td>\n",
       "      <td>None</td>\n",
       "      <td>residential</td>\n",
       "      <td>None</td>\n",
       "      <td>None</td>\n",
       "      <td>5.0</td>\n",
       "      <td>1.0</td>\n",
       "      <td>None</td>\n",
       "      <td>None</td>\n",
       "      <td>...</td>\n",
       "      <td>1.0</td>\n",
       "      <td>1.0</td>\n",
       "      <td>LINESTRING (214325.504 3765337.219, 214347.667...</td>\n",
       "      <td>2.0</td>\n",
       "      <td>2.0</td>\n",
       "      <td>2.0</td>\n",
       "      <td>2</td>\n",
       "      <td>1</td>\n",
       "      <td>0</td>\n",
       "      <td>10.0</td>\n",
       "    </tr>\n",
       "    <tr>\n",
       "      <th>134755</th>\n",
       "      <td>134533</td>\n",
       "      <td>None</td>\n",
       "      <td>None</td>\n",
       "      <td>residential</td>\n",
       "      <td>None</td>\n",
       "      <td>None</td>\n",
       "      <td>5.0</td>\n",
       "      <td>1.0</td>\n",
       "      <td>None</td>\n",
       "      <td>None</td>\n",
       "      <td>...</td>\n",
       "      <td>2.0</td>\n",
       "      <td>1.5</td>\n",
       "      <td>LINESTRING (214234.176 3765272.267, 214229.904...</td>\n",
       "      <td>2.0</td>\n",
       "      <td>2.0</td>\n",
       "      <td>2.0</td>\n",
       "      <td>2</td>\n",
       "      <td>1</td>\n",
       "      <td>0</td>\n",
       "      <td>11.0</td>\n",
       "    </tr>\n",
       "    <tr>\n",
       "      <th>134756</th>\n",
       "      <td>134534</td>\n",
       "      <td>None</td>\n",
       "      <td>None</td>\n",
       "      <td>residential</td>\n",
       "      <td>None</td>\n",
       "      <td>None</td>\n",
       "      <td>5.0</td>\n",
       "      <td>1.0</td>\n",
       "      <td>None</td>\n",
       "      <td>None</td>\n",
       "      <td>...</td>\n",
       "      <td>1.0</td>\n",
       "      <td>NaN</td>\n",
       "      <td>LINESTRING (214234.176 3765272.267, 214238.206...</td>\n",
       "      <td>2.0</td>\n",
       "      <td>2.0</td>\n",
       "      <td>2.0</td>\n",
       "      <td>2</td>\n",
       "      <td>1</td>\n",
       "      <td>0</td>\n",
       "      <td>10.0</td>\n",
       "    </tr>\n",
       "    <tr>\n",
       "      <th>134757</th>\n",
       "      <td>134535</td>\n",
       "      <td>None</td>\n",
       "      <td>None</td>\n",
       "      <td>residential</td>\n",
       "      <td>None</td>\n",
       "      <td>None</td>\n",
       "      <td>5.0</td>\n",
       "      <td>1.0</td>\n",
       "      <td>None</td>\n",
       "      <td>None</td>\n",
       "      <td>...</td>\n",
       "      <td>2.0</td>\n",
       "      <td>2.0</td>\n",
       "      <td>LINESTRING (214112.455 3765256.304, 214163.461...</td>\n",
       "      <td>2.0</td>\n",
       "      <td>2.0</td>\n",
       "      <td>2.0</td>\n",
       "      <td>2</td>\n",
       "      <td>1</td>\n",
       "      <td>0</td>\n",
       "      <td>11.0</td>\n",
       "    </tr>\n",
       "  </tbody>\n",
       "</table>\n",
       "<p>134758 rows × 25 columns</p>\n",
       "</div>"
      ],
      "text/plain": [
       "           cat  name name_en       highway  surface smoothness  width  lanes  \\\n",
       "0            1  None    None  unclassified  unpaved       None    5.0    1.0   \n",
       "1            2  None    None         track     None       None    5.0    1.0   \n",
       "2            3  None    None         track     None       None    5.0    1.0   \n",
       "3            4  None    None   residential     None       None    5.0    1.0   \n",
       "4            5  None    None  unclassified     None       None    5.0    1.0   \n",
       "...        ...   ...     ...           ...      ...        ...    ...    ...   \n",
       "134753  134531  None    None   residential     None       None    5.0    1.0   \n",
       "134754  134532  None    None   residential     None       None    5.0    1.0   \n",
       "134755  134533  None    None   residential     None       None    5.0    1.0   \n",
       "134756  134534  None    None   residential     None       None    5.0    1.0   \n",
       "134757  134535  None    None   residential     None       None    5.0    1.0   \n",
       "\n",
       "       oneway bridge  ... VUL_maximum VUL_average  \\\n",
       "0        None   None  ...         1.0         NaN   \n",
       "1        None   None  ...         1.0         NaN   \n",
       "2        None   None  ...         1.0         NaN   \n",
       "3        None   None  ...         1.0         NaN   \n",
       "4        None   None  ...         1.0         NaN   \n",
       "...       ...    ...  ...         ...         ...   \n",
       "134753   None   None  ...         1.0         NaN   \n",
       "134754   None   None  ...         1.0         1.0   \n",
       "134755   None   None  ...         2.0         1.5   \n",
       "134756   None   None  ...         1.0         NaN   \n",
       "134757   None   None  ...         2.0         2.0   \n",
       "\n",
       "                                                 geometry  highway_score  \\\n",
       "0       LINESTRING (614690.695 3844222.236, 614681.094...            3.0   \n",
       "1       LINESTRING (614674.297 3845103.846, 614682.395...            3.0   \n",
       "2       LINESTRING (614744.964 3844722.194, 614776.869...            3.0   \n",
       "3       LINESTRING (156075.152 3724023.76, 156050.235 ...            2.0   \n",
       "4       LINESTRING (275665.454 3891720.008, 275643.257...            3.0   \n",
       "...                                                   ...            ...   \n",
       "134753  LINESTRING (213981.364 3765094.52, 214021.455 ...            2.0   \n",
       "134754  LINESTRING (214325.504 3765337.219, 214347.667...            2.0   \n",
       "134755  LINESTRING (214234.176 3765272.267, 214229.904...            2.0   \n",
       "134756  LINESTRING (214234.176 3765272.267, 214238.206...            2.0   \n",
       "134757  LINESTRING (214112.455 3765256.304, 214163.461...            2.0   \n",
       "\n",
       "       surface_score  smoothness_score  lanes_score width_score  oneway_score  \\\n",
       "0                3.0               2.0            2           1             0   \n",
       "1                2.0               2.0            2           1             0   \n",
       "2                2.0               2.0            2           1             0   \n",
       "3                2.0               2.0            2           1             0   \n",
       "4                2.0               2.0            2           1             0   \n",
       "...              ...               ...          ...         ...           ...   \n",
       "134753           2.0               2.0            2           1             0   \n",
       "134754           2.0               2.0            2           1             0   \n",
       "134755           2.0               2.0            2           1             0   \n",
       "134756           2.0               2.0            2           1             0   \n",
       "134757           2.0               2.0            2           1             0   \n",
       "\n",
       "        base_score  \n",
       "0             12.0  \n",
       "1             11.0  \n",
       "2             11.0  \n",
       "3             10.0  \n",
       "4             11.0  \n",
       "...            ...  \n",
       "134753        10.0  \n",
       "134754        10.0  \n",
       "134755        11.0  \n",
       "134756        10.0  \n",
       "134757        11.0  \n",
       "\n",
       "[134758 rows x 25 columns]"
      ]
     },
     "execution_count": 20,
     "metadata": {},
     "output_type": "execute_result"
    }
   ],
   "source": [
    "roads"
   ]
  },
  {
   "cell_type": "code",
   "execution_count": null,
   "id": "2af2b4a0-c6ac-4af8-b237-c8219b18f4dc",
   "metadata": {},
   "outputs": [],
   "source": []
  }
 ],
 "metadata": {
  "kernelspec": {
   "display_name": "Python 3 (ipykernel)",
   "language": "python",
   "name": "python3"
  },
  "language_info": {
   "codemirror_mode": {
    "name": "ipython",
    "version": 3
   },
   "file_extension": ".py",
   "mimetype": "text/x-python",
   "name": "python",
   "nbconvert_exporter": "python",
   "pygments_lexer": "ipython3",
   "version": "3.11.11"
  }
 },
 "nbformat": 4,
 "nbformat_minor": 5
}
